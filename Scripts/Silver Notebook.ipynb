{
 "cells": [
  {
   "cell_type": "code",
   "execution_count": 0,
   "metadata": {
    "application/vnd.databricks.v1+cell": {
     "cellMetadata": {
      "byteLimit": 2048000,
      "rowLimit": 10000
     },
     "inputWidgets": {},
     "nuid": "a9aa4a3d-c93e-4574-ab4e-b5600bc0dd22",
     "showTitle": false,
     "tableResultSettingsMap": {},
     "title": ""
    }
   },
   "outputs": [],
   "source": [
    "import json\n",
    "\n",
    "bronze_params = dbutils.widgets.get(\"bronze_params\")\n",
    "print(f\"Raw bronze_params: {bronze_params}\")\n",
    "output_data = json.loads(bronze_params)\n",
    "\n",
    "today = output_data.get(\"today\", \"\")\n",
    "pays = output_data.get(\"pays\", \"\")\n",
    "ville = output_data.get(\"ville\", \"\")\n",
    "bronze_adls = output_data.get(\"bronze_adls\", \"\")\n",
    "silver_adls = output_data.get(\"silver_adls\", \"\")\n",
    "gold_adls = output_data.get(\"gold_adls\", \"\")"
   ]
  },
  {
   "cell_type": "code",
   "execution_count": 0,
   "metadata": {
    "application/vnd.databricks.v1+cell": {
     "cellMetadata": {
      "byteLimit": 2048000,
      "rowLimit": 10000
     },
     "inputWidgets": {},
     "nuid": "28be0e63-33d9-4fbb-b648-64ef2b99a04e",
     "showTitle": false,
     "tableResultSettingsMap": {},
     "title": ""
    }
   },
   "outputs": [],
   "source": [
    "df = spark.read.option(\"multiLine\", True).json(f\"{bronze_adls}/meteo/{pays}_{ville}_{today}.json\")    "
   ]
  },
  {
   "cell_type": "code",
   "execution_count": 0,
   "metadata": {
    "application/vnd.databricks.v1+cell": {
     "cellMetadata": {
      "byteLimit": 2048000,
      "rowLimit": 10000
     },
     "inputWidgets": {},
     "nuid": "c1ee8af5-758c-4bfc-9162-b6a0f1f69605",
     "showTitle": false,
     "tableResultSettingsMap": {},
     "title": ""
    }
   },
   "outputs": [],
   "source": [
    "from pyspark.sql.functions import col, posexplode, to_timestamp, date_format, to_date\n"
   ]
  },
  {
   "cell_type": "code",
   "execution_count": 0,
   "metadata": {
    "application/vnd.databricks.v1+cell": {
     "cellMetadata": {
      "byteLimit": 2048000,
      "rowLimit": 10000
     },
     "inputWidgets": {},
     "nuid": "e2d50cab-cec7-4e26-bb18-09956a6dd877",
     "showTitle": false,
     "tableResultSettingsMap": {},
     "title": ""
    }
   },
   "outputs": [],
   "source": [
    "df2 = df.select(\"time\", \"temperature_2m\", \"soil_temperature_0cm\", \"precipitation\", \"latitude\", \"longitude\")\n",
    "# posexplode la colonne \"time\"\n",
    "df_pos = df2.select(\n",
    "    posexplode(\"time\").alias(\"pos\", \"time\"),\n",
    "    col(\"temperature_2m\"),\n",
    "    col(\"soil_temperature_0cm\"),\n",
    "    col(\"precipitation\"),\n",
    "    col(\"latitude\"),\n",
    "    col(\"longitude\")\n",
    ")\n",
    "# Créer le DataFrame final avec les bonnes valeurs alignées\n",
    "df_final = df_pos.select(\n",
    "    to_timestamp(\"time\").alias(\"datetime\"),\n",
    "    col(\"temperature_2m\")[col(\"pos\")].alias(\"temperature_2m\"),\n",
    "    col(\"soil_temperature_0cm\")[col(\"pos\")].alias(\"soil_temperature_0cm\"),\n",
    "    col(\"precipitation\")[col(\"pos\")].alias(\"precipitation\"),\n",
    "    col(\"latitude\")[col(\"pos\")].alias(\"latitude\"),\n",
    "    col(\"longitude\")[col(\"pos\")].alias(\"longitude\")\n",
    ")\n"
   ]
  },
  {
   "cell_type": "code",
   "execution_count": 0,
   "metadata": {
    "application/vnd.databricks.v1+cell": {
     "cellMetadata": {
      "byteLimit": 2048000,
      "rowLimit": 10000
     },
     "inputWidgets": {},
     "nuid": "893c8044-b5a7-4215-b16c-5227bd49c241",
     "showTitle": false,
     "tableResultSettingsMap": {},
     "title": ""
    }
   },
   "outputs": [],
   "source": [
    "df_final = (\n",
    "    df_final\n",
    "    .withColumn(\"date\", to_date(\"datetime\"))\n",
    "    .withColumn(\"heure\", date_format(\"datetime\", \"HH:mm\"))\n",
    "    .drop(\"datetime\")\n",
    ")\n",
    "df_final = df_final.select(\n",
    "    \"latitude\", \"longitude\",\n",
    "    \"date\",\n",
    "    \"heure\",\n",
    "    \"temperature_2m\",\n",
    "    \"soil_temperature_0cm\",\n",
    "    \"precipitation\"\n",
    ")"
   ]
  },
  {
   "cell_type": "code",
   "execution_count": 0,
   "metadata": {
    "application/vnd.databricks.v1+cell": {
     "cellMetadata": {
      "byteLimit": 2048000,
      "rowLimit": 10000
     },
     "inputWidgets": {},
     "nuid": "7f3625cd-17ca-4cfd-ad2b-2a91992ebe80",
     "showTitle": false,
     "tableResultSettingsMap": {},
     "title": ""
    }
   },
   "outputs": [
    {
     "output_type": "stream",
     "name": "stdout",
     "output_type": "stream",
     "text": [
      "+--------+---------+----------+-----+--------------+--------------------+-------------+\n|latitude|longitude|      date|heure|temperature_2m|soil_temperature_0cm|precipitation|\n+--------+---------+----------+-----+--------------+--------------------+-------------+\n|   48.85|     2.35|2025-04-13|00:00|          13.7|                14.7|          0.5|\n|   48.85|     2.35|2025-04-13|01:00|          13.7|                14.5|          1.2|\n|   48.85|     2.35|2025-04-13|02:00|          14.1|                14.3|          0.3|\n|   48.85|     2.35|2025-04-13|03:00|          13.9|                14.2|          0.0|\n|   48.85|     2.35|2025-04-13|04:00|          14.0|                14.3|          0.0|\n|   48.85|     2.35|2025-04-13|05:00|          13.9|                13.9|          0.0|\n|   48.85|     2.35|2025-04-13|06:00|          13.9|                14.2|          0.0|\n|   48.85|     2.35|2025-04-13|07:00|          13.9|                14.2|          0.0|\n|   48.85|     2.35|2025-04-13|08:00|          13.6|                14.2|          0.0|\n|   48.85|     2.35|2025-04-13|09:00|          13.6|                15.0|          0.0|\n|   48.85|     2.35|2025-04-13|10:00|          14.6|                17.8|          0.0|\n|   48.85|     2.35|2025-04-13|11:00|          15.3|                19.9|          0.0|\n|   48.85|     2.35|2025-04-13|12:00|          15.9|                23.2|          0.0|\n|   48.85|     2.35|2025-04-13|13:00|          17.2|                24.8|          0.0|\n|   48.85|     2.35|2025-04-13|14:00|          18.5|                24.8|          0.0|\n|   48.85|     2.35|2025-04-13|15:00|          19.6|                27.8|          0.0|\n|   48.85|     2.35|2025-04-13|16:00|          19.4|                26.2|          0.0|\n|   48.85|     2.35|2025-04-13|17:00|          19.6|                25.4|          0.0|\n|   48.85|     2.35|2025-04-13|18:00|          18.9|                22.7|          0.0|\n|   48.85|     2.35|2025-04-13|19:00|          18.2|                20.7|          0.0|\n+--------+---------+----------+-----+--------------+--------------------+-------------+\nonly showing top 20 rows\n\n"
     ]
    }
   ],
   "source": [
    "df_final.show()"
   ]
  },
  {
   "cell_type": "code",
   "execution_count": 0,
   "metadata": {
    "application/vnd.databricks.v1+cell": {
     "cellMetadata": {
      "byteLimit": 2048000,
      "rowLimit": 10000
     },
     "inputWidgets": {},
     "nuid": "b3d938f9-09c5-4db3-a7d3-04b90f0f24d7",
     "showTitle": false,
     "tableResultSettingsMap": {},
     "title": ""
    },
    "jupyter": {
     "outputs_hidden": true
    }
   },
   "outputs": [
    {
     "output_type": "display_data",
     "data": {
      "text/plain": [
       "\u001B[0;31m---------------------------------------------------------------------------\u001B[0m\n",
       "\u001B[0;31mNameError\u001B[0m                                 Traceback (most recent call last)\n",
       "File \u001B[0;32m<command-5248984944093824>, line 1\u001B[0m\n",
       "\u001B[0;32m----> 1\u001B[0m silver_output_path \u001B[38;5;241m=\u001B[39m \u001B[38;5;124mf\u001B[39m\u001B[38;5;124m\"\u001B[39m\u001B[38;5;132;01m{\u001B[39;00msilver_adls\u001B[38;5;132;01m}\u001B[39;00m\u001B[38;5;124m/meteo\u001B[39m\u001B[38;5;124m\"\u001B[39m\n",
       "\n",
       "\u001B[0;31mNameError\u001B[0m: name 'silver_adls' is not defined"
      ]
     },
     "metadata": {
      "application/vnd.databricks.v1+output": {
       "addedWidgets": {},
       "arguments": {},
       "datasetInfos": [],
       "jupyterProps": {
        "ename": "NameError",
        "evalue": "name 'silver_adls' is not defined"
       },
       "metadata": {
        "errorSummary": "<span class='ansi-red-fg'>NameError</span>: name 'silver_adls' is not defined"
       },
       "removedWidgets": [],
       "sqlProps": null,
       "stackFrames": [
        "\u001B[0;31m---------------------------------------------------------------------------\u001B[0m",
        "\u001B[0;31mNameError\u001B[0m                                 Traceback (most recent call last)",
        "File \u001B[0;32m<command-5248984944093824>, line 1\u001B[0m\n\u001B[0;32m----> 1\u001B[0m silver_output_path \u001B[38;5;241m=\u001B[39m \u001B[38;5;124mf\u001B[39m\u001B[38;5;124m\"\u001B[39m\u001B[38;5;132;01m{\u001B[39;00msilver_adls\u001B[38;5;132;01m}\u001B[39;00m\u001B[38;5;124m/meteo\u001B[39m\u001B[38;5;124m\"\u001B[39m\n",
        "\u001B[0;31mNameError\u001B[0m: name 'silver_adls' is not defined"
       ],
       "type": "baseError"
      }
     },
     "output_type": "display_data"
    }
   ],
   "source": [
    "silver_output_path = f\"{silver_adls}/meteo/{pays}_{ville}_{today}.parquet\""
   ]
  },
  {
   "cell_type": "code",
   "execution_count": 0,
   "metadata": {
    "application/vnd.databricks.v1+cell": {
     "cellMetadata": {},
     "inputWidgets": {},
     "nuid": "1e5c75d1-86b8-44b7-aebf-f79f3367b730",
     "showTitle": false,
     "tableResultSettingsMap": {},
     "title": ""
    }
   },
   "outputs": [],
   "source": [
    "df_final = df_final.limit(100)"
   ]
  },
  {
   "cell_type": "code",
   "execution_count": 0,
   "metadata": {
    "application/vnd.databricks.v1+cell": {
     "cellMetadata": {
      "byteLimit": 2048000,
      "rowLimit": 10000
     },
     "inputWidgets": {},
     "nuid": "52b8b690-4f9a-4ffe-b7a6-36bcb8371498",
     "showTitle": false,
     "tableResultSettingsMap": {},
     "title": ""
    }
   },
   "outputs": [],
   "source": [
    "df_final.write.mode(\"overwrite\").parquet(silver_output_path)"
   ]
  },
  {
   "cell_type": "code",
   "execution_count": 0,
   "metadata": {
    "application/vnd.databricks.v1+cell": {
     "cellMetadata": {},
     "inputWidgets": {},
     "nuid": "c72a5b21-2730-444a-8bc5-100bc18ae413",
     "showTitle": false,
     "tableResultSettingsMap": {},
     "title": ""
    }
   },
   "outputs": [],
   "source": [
    "# output_data = {\n",
    "#     \"today\": today,\n",
    "#     \"silver_adls\": silver_adls,\n",
    "#     \"gold_adls\": gold_adls\n",
    "# }\n",
    "\n",
    "# output_json = json.dumps(output_data)\n",
    "# dbutils.notebook.exit(output_json)"
   ]
  }
 ],
 "metadata": {
  "application/vnd.databricks.v1+notebook": {
   "computePreferences": null,
   "dashboards": [],
   "environmentMetadata": {
    "base_environment": "",
    "environment_version": "2"
   },
   "inputWidgetPreferences": null,
   "language": "python",
   "notebookMetadata": {
    "pythonIndentUnit": 4
   },
   "notebookName": "Silver Notebook",
   "widgets": {}
  },
  "language_info": {
   "name": "python"
  }
 },
 "nbformat": 4,
 "nbformat_minor": 0
}