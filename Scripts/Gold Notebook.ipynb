{
 "cells": [
  {
   "cell_type": "code",
   "execution_count": 0,
   "metadata": {
    "application/vnd.databricks.v1+cell": {
     "cellMetadata": {
      "byteLimit": 2048000,
      "rowLimit": 10000
     },
     "inputWidgets": {},
     "nuid": "a98670cb-3c8e-4307-a81d-17a7ce16d8e1",
     "showTitle": false,
     "tableResultSettingsMap": {},
     "title": ""
    }
   },
   "outputs": [],
   "source": [
    "import json\n",
    "\n",
    "# silver_params = dbutils.widgets.get(\"silver_params\")\n",
    "# print(f\"Params received: {silver_params}\")\n",
    "\n",
    "# output_data = json.loads(silver_params)\n",
    "\n",
    "# today = output_data.get(\"today\", \"\")\n",
    "# silver_adls = output_data.get(\"silver_adls\", \"\")\n",
    "# gold_adls = output_data.get(\"gold_adls\", \"\")\n",
    "dbutils.widgets.text(\"silver_adls\", \"\")\n",
    "silver_adls = dbutils.widgets.get(\"silver_adls\")\n",
    "\n",
    "dbutils.widgets.text(\"gold_adls\", \"\")\n",
    "gold_adls = dbutils.widgets.get(\"gold_adls\")\n",
    "\n",
    "dbutils.widgets.text(\"today\", \"\")\n",
    "today = dbutils.widgets.get(\"today\")"
   ]
  },
  {
   "cell_type": "code",
   "execution_count": 0,
   "metadata": {
    "application/vnd.databricks.v1+cell": {
     "cellMetadata": {
      "byteLimit": 2048000,
      "rowLimit": 10000
     },
     "inputWidgets": {},
     "nuid": "f7e9d5e1-36ce-4c0c-848c-03e417728972",
     "showTitle": false,
     "tableResultSettingsMap": {},
     "title": ""
    }
   },
   "outputs": [],
   "source": [
    "df = spark.read.parquet(f\"{silver_adls}/meteo/*_{today}.parquet\")"
   ]
  },
  {
   "cell_type": "code",
   "execution_count": 0,
   "metadata": {
    "application/vnd.databricks.v1+cell": {
     "cellMetadata": {
      "byteLimit": 2048000,
      "rowLimit": 10000
     },
     "inputWidgets": {},
     "nuid": "df6f78db-14f1-4f15-97d0-8e877ba79431",
     "showTitle": false,
     "tableResultSettingsMap": {},
     "title": ""
    }
   },
   "outputs": [],
   "source": [
    "from pyspark.sql.functions import udf\n",
    "import pyspark.sql.functions as F\n",
    "from pyspark.sql.types import StringType\n",
    "import reverse_geocoder as rg"
   ]
  },
  {
   "cell_type": "code",
   "execution_count": 0,
   "metadata": {
    "application/vnd.databricks.v1+cell": {
     "cellMetadata": {
      "byteLimit": 2048000,
      "rowLimit": 10000
     },
     "inputWidgets": {},
     "nuid": "15b91690-8437-4112-a481-f77c9ed8a4a0",
     "showTitle": false,
     "tableResultSettingsMap": {},
     "title": ""
    }
   },
   "outputs": [],
   "source": [
    "def get_country_info(lat, lon):\n",
    "    try:\n",
    "        coordinates = (float(lat), float(lon))\n",
    "        result = rg.search(coordinates)[0]\n",
    "        country_code = result.get('cc')\n",
    "        city_name = result.get('name')\n",
    "        return (country_code, city_name)\n",
    "    except Exception as e:\n",
    "        print(f\"Erreur coordonnées : {lat}, {lon} -> {str(e)}\")\n",
    "        return (None, None)"
   ]
  },
  {
   "cell_type": "code",
   "execution_count": 0,
   "metadata": {
    "application/vnd.databricks.v1+cell": {
     "cellMetadata": {
      "byteLimit": 2048000,
      "rowLimit": 10000
     },
     "inputWidgets": {},
     "nuid": "15a4bf1c-b137-449c-9591-fd0c1a34338d",
     "showTitle": false,
     "tableResultSettingsMap": {},
     "title": ""
    }
   },
   "outputs": [],
   "source": [
    "# Enregistrement en tant que fonction Spark UDF\n",
    "# Définir le schéma du struct retourné\n",
    "from pyspark.sql.types import StructType, StructField, StringType\n",
    "location_schema = StructType([\n",
    "    StructField(\"country_code\", StringType(), True),\n",
    "    StructField(\"city\", StringType(), True)\n",
    "])\n",
    "\n",
    "# Créer l’UDF\n",
    "get_location_udf = udf(get_country_info, location_schema)"
   ]
  },
  {
   "cell_type": "code",
   "execution_count": 0,
   "metadata": {
    "application/vnd.databricks.v1+cell": {
     "cellMetadata": {
      "byteLimit": 2048000,
      "rowLimit": 10000
     },
     "inputWidgets": {},
     "nuid": "a20be16e-33bd-48b1-9063-95597ba4a80f",
     "showTitle": false,
     "tableResultSettingsMap": {},
     "title": ""
    }
   },
   "outputs": [
    {
     "output_type": "execute_result",
     "data": {
      "text/plain": [
       "('FR', 'Paris')"
      ]
     },
     "execution_count": 52,
     "metadata": {},
     "output_type": "execute_result"
    }
   ],
   "source": [
    "latitude = 48.85\n",
    "longitude = 2.35\n",
    "get_country_info(latitude, longitude)"
   ]
  },
  {
   "cell_type": "code",
   "execution_count": 0,
   "metadata": {
    "application/vnd.databricks.v1+cell": {
     "cellMetadata": {
      "byteLimit": 2048000,
      "rowLimit": 10000
     },
     "inputWidgets": {},
     "nuid": "0eb7ec3c-bcd1-4a5e-b98c-edcf01b80de3",
     "showTitle": false,
     "tableResultSettingsMap": {},
     "title": ""
    }
   },
   "outputs": [],
   "source": [
    "df_with_location = ( \n",
    "    df.withColumn('location', get_location_udf(F.col('latitude'), F.col('longitude')))\n",
    ")"
   ]
  },
  {
   "cell_type": "code",
   "execution_count": 0,
   "metadata": {
    "application/vnd.databricks.v1+cell": {
     "cellMetadata": {
      "byteLimit": 2048000,
      "rowLimit": 10000
     },
     "inputWidgets": {},
     "nuid": "687c8337-ba10-4290-b8a9-d8765fe07df5",
     "showTitle": false,
     "tableResultSettingsMap": {},
     "title": ""
    }
   },
   "outputs": [],
   "source": [
    "df_with_location = df_with_location.withColumn(\"country_code\", F.col(\"location.country_code\")) \\\n",
    "             .withColumn(\"city\", F.col(\"location.city\")) \\\n",
    "             .drop(\"location\")"
   ]
  },
  {
   "cell_type": "code",
   "execution_count": 0,
   "metadata": {
    "application/vnd.databricks.v1+cell": {
     "cellMetadata": {
      "byteLimit": 2048000,
      "rowLimit": 10000
     },
     "inputWidgets": {},
     "nuid": "d6ffcc4b-97e0-4cc8-b47e-cfac1327b90d",
     "showTitle": false,
     "tableResultSettingsMap": {},
     "title": ""
    }
   },
   "outputs": [
    {
     "output_type": "stream",
     "name": "stdout",
     "output_type": "stream",
     "text": [
      "+--------+---------+----------+-----+--------------+--------------------+-------------+------------+-----+\n|latitude|longitude|      date|heure|temperature_2m|soil_temperature_0cm|precipitation|country_code| city|\n+--------+---------+----------+-----+--------------+--------------------+-------------+------------+-----+\n|   48.85|     2.35|2025-04-13|00:00|          13.7|                14.7|          0.5|          FR|Paris|\n|   48.85|     2.35|2025-04-13|01:00|          13.7|                14.5|          1.2|          FR|Paris|\n|   48.85|     2.35|2025-04-13|02:00|          14.1|                14.3|          0.3|          FR|Paris|\n|   48.85|     2.35|2025-04-13|03:00|          13.9|                14.2|          0.0|          FR|Paris|\n|   48.85|     2.35|2025-04-13|04:00|          14.0|                14.3|          0.0|          FR|Paris|\n|   48.85|     2.35|2025-04-13|05:00|          13.9|                13.9|          0.0|          FR|Paris|\n|   48.85|     2.35|2025-04-13|06:00|          13.9|                14.2|          0.0|          FR|Paris|\n|   48.85|     2.35|2025-04-13|07:00|          13.9|                14.2|          0.0|          FR|Paris|\n|   48.85|     2.35|2025-04-13|08:00|          13.6|                14.2|          0.0|          FR|Paris|\n|   48.85|     2.35|2025-04-13|09:00|          13.6|                15.0|          0.0|          FR|Paris|\n|   48.85|     2.35|2025-04-13|10:00|          14.6|                17.8|          0.0|          FR|Paris|\n|   48.85|     2.35|2025-04-13|11:00|          15.3|                19.9|          0.0|          FR|Paris|\n|   48.85|     2.35|2025-04-13|12:00|          15.9|                23.2|          0.0|          FR|Paris|\n|   48.85|     2.35|2025-04-13|13:00|          17.2|                24.8|          0.0|          FR|Paris|\n|   48.85|     2.35|2025-04-13|14:00|          18.5|                24.8|          0.0|          FR|Paris|\n|   48.85|     2.35|2025-04-13|15:00|          19.6|                27.8|          0.0|          FR|Paris|\n|   48.85|     2.35|2025-04-13|16:00|          19.4|                26.2|          0.0|          FR|Paris|\n|   48.85|     2.35|2025-04-13|17:00|          19.6|                25.4|          0.0|          FR|Paris|\n|   48.85|     2.35|2025-04-13|18:00|          18.9|                22.7|          0.0|          FR|Paris|\n|   48.85|     2.35|2025-04-13|19:00|          18.2|                20.7|          0.0|          FR|Paris|\n+--------+---------+----------+-----+--------------+--------------------+-------------+------------+-----+\nonly showing top 20 rows\n\n"
     ]
    }
   ],
   "source": [
    "df_with_location.show()"
   ]
  },
  {
   "cell_type": "code",
   "execution_count": 0,
   "metadata": {
    "application/vnd.databricks.v1+cell": {
     "cellMetadata": {
      "byteLimit": 2048000,
      "rowLimit": 10000
     },
     "inputWidgets": {},
     "nuid": "ceb94f19-062b-414c-a9c1-269fc554656f",
     "showTitle": false,
     "tableResultSettingsMap": {},
     "title": ""
    }
   },
   "outputs": [],
   "source": [
    "df_with_location_class = (\n",
    "    df_with_location.withColumn(\n",
    "        \"stemp_class\",\n",
    "    F.when(F.col(\"soil_temperature_0cm\") <= 0, \"gel\")\n",
    "    .when(F.col(\"soil_temperature_0cm\") <= 10, \"froid\")\n",
    "    .when(F.col(\"soil_temperature_0cm\") <= 20, \"modéré\")\n",
    "    .when(F.col(\"soil_temperature_0cm\") <= 30, \"chaud\")\n",
    "    .otherwise(\"très chaud\")\n",
    "    )\n",
    ")"
   ]
  },
  {
   "cell_type": "code",
   "execution_count": 0,
   "metadata": {
    "application/vnd.databricks.v1+cell": {
     "cellMetadata": {
      "byteLimit": 2048000,
      "rowLimit": 10000
     },
     "inputWidgets": {},
     "nuid": "6fa35c84-9494-4fa0-9295-6127f9bbfa72",
     "showTitle": false,
     "tableResultSettingsMap": {},
     "title": ""
    }
   },
   "outputs": [
    {
     "output_type": "stream",
     "name": "stdout",
     "output_type": "stream",
     "text": [
      "+--------+---------+----------+-----+--------------+--------------------+-------------+------------+-----+-----------+\n|latitude|longitude|      date|heure|temperature_2m|soil_temperature_0cm|precipitation|country_code| city|stemp_class|\n+--------+---------+----------+-----+--------------+--------------------+-------------+------------+-----+-----------+\n|   48.85|     2.35|2025-04-13|00:00|          13.7|                14.7|          0.5|          FR|Paris|     modéré|\n|   48.85|     2.35|2025-04-13|01:00|          13.7|                14.5|          1.2|          FR|Paris|     modéré|\n|   48.85|     2.35|2025-04-13|02:00|          14.1|                14.3|          0.3|          FR|Paris|     modéré|\n|   48.85|     2.35|2025-04-13|03:00|          13.9|                14.2|          0.0|          FR|Paris|     modéré|\n|   48.85|     2.35|2025-04-13|04:00|          14.0|                14.3|          0.0|          FR|Paris|     modéré|\n|   48.85|     2.35|2025-04-13|05:00|          13.9|                13.9|          0.0|          FR|Paris|     modéré|\n|   48.85|     2.35|2025-04-13|06:00|          13.9|                14.2|          0.0|          FR|Paris|     modéré|\n|   48.85|     2.35|2025-04-13|07:00|          13.9|                14.2|          0.0|          FR|Paris|     modéré|\n|   48.85|     2.35|2025-04-13|08:00|          13.6|                14.2|          0.0|          FR|Paris|     modéré|\n|   48.85|     2.35|2025-04-13|09:00|          13.6|                15.0|          0.0|          FR|Paris|     modéré|\n|   48.85|     2.35|2025-04-13|10:00|          14.6|                17.8|          0.0|          FR|Paris|     modéré|\n|   48.85|     2.35|2025-04-13|11:00|          15.3|                19.9|          0.0|          FR|Paris|     modéré|\n|   48.85|     2.35|2025-04-13|12:00|          15.9|                23.2|          0.0|          FR|Paris|      chaud|\n|   48.85|     2.35|2025-04-13|13:00|          17.2|                24.8|          0.0|          FR|Paris|      chaud|\n|   48.85|     2.35|2025-04-13|14:00|          18.5|                24.8|          0.0|          FR|Paris|      chaud|\n|   48.85|     2.35|2025-04-13|15:00|          19.6|                27.8|          0.0|          FR|Paris|      chaud|\n|   48.85|     2.35|2025-04-13|16:00|          19.4|                26.2|          0.0|          FR|Paris|      chaud|\n|   48.85|     2.35|2025-04-13|17:00|          19.6|                25.4|          0.0|          FR|Paris|      chaud|\n|   48.85|     2.35|2025-04-13|18:00|          18.9|                22.7|          0.0|          FR|Paris|      chaud|\n|   48.85|     2.35|2025-04-13|19:00|          18.2|                20.7|          0.0|          FR|Paris|      chaud|\n+--------+---------+----------+-----+--------------+--------------------+-------------+------------+-----+-----------+\nonly showing top 20 rows\n\n"
     ]
    }
   ],
   "source": [
    "df_with_location_class.show()"
   ]
  },
  {
   "cell_type": "code",
   "execution_count": 0,
   "metadata": {
    "application/vnd.databricks.v1+cell": {
     "cellMetadata": {
      "byteLimit": 2048000,
      "rowLimit": 10000
     },
     "inputWidgets": {},
     "nuid": "7466fdc9-d31d-45bb-8da6-6e4cc5c49639",
     "showTitle": false,
     "tableResultSettingsMap": {},
     "title": ""
    }
   },
   "outputs": [
    {
     "output_type": "stream",
     "name": "stdout",
     "output_type": "stream",
     "text": [
      "root\n |-- latitude: double (nullable = true)\n |-- longitude: double (nullable = true)\n |-- date: date (nullable = true)\n |-- heure: string (nullable = true)\n |-- temperature_2m: double (nullable = true)\n |-- soil_temperature_0cm: double (nullable = true)\n |-- precipitation: double (nullable = true)\n |-- country_code: string (nullable = true)\n |-- city: string (nullable = true)\n |-- stemp_class: string (nullable = false)\n\n"
     ]
    }
   ],
   "source": [
    "df_with_location_class.printSchema()"
   ]
  },
  {
   "cell_type": "code",
   "execution_count": 0,
   "metadata": {
    "application/vnd.databricks.v1+cell": {
     "cellMetadata": {
      "byteLimit": 2048000,
      "rowLimit": 10000
     },
     "inputWidgets": {},
     "nuid": "fa065732-edca-462a-95f0-b59221afa7ba",
     "showTitle": false,
     "tableResultSettingsMap": {},
     "title": ""
    }
   },
   "outputs": [],
   "source": [
    "gold_output_path = f\"{gold_adls}/weather_gold/{today}\""
   ]
  },
  {
   "cell_type": "code",
   "execution_count": 0,
   "metadata": {
    "application/vnd.databricks.v1+cell": {
     "cellMetadata": {
      "byteLimit": 2048000,
      "rowLimit": 10000
     },
     "inputWidgets": {},
     "nuid": "e302f033-b576-4476-80f6-162de603c19b",
     "showTitle": false,
     "tableResultSettingsMap": {},
     "title": ""
    }
   },
   "outputs": [],
   "source": [
    "df_with_location_class.write.mode(\"overwrite\").parquet(gold_output_path)"
   ]
  }
 ],
 "metadata": {
  "application/vnd.databricks.v1+notebook": {
   "computePreferences": null,
   "dashboards": [],
   "environmentMetadata": {
    "base_environment": "",
    "environment_version": "2"
   },
   "inputWidgetPreferences": null,
   "language": "python",
   "notebookMetadata": {
    "pythonIndentUnit": 4
   },
   "notebookName": "Gold Notebook",
   "widgets": {}
  },
  "language_info": {
   "name": "python"
  }
 },
 "nbformat": 4,
 "nbformat_minor": 0
}