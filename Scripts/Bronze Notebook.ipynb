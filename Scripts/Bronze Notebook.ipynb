{
 "cells": [
  {
   "cell_type": "code",
   "execution_count": 0,
   "metadata": {
    "application/vnd.databricks.v1+cell": {
     "cellMetadata": {
      "byteLimit": 2048000,
      "rowLimit": 10000
     },
     "inputWidgets": {},
     "nuid": "de8551bb-5feb-4b44-a3b8-1abf9d7e48e4",
     "showTitle": false,
     "tableResultSettingsMap": {},
     "title": ""
    }
   },
   "outputs": [
    {
     "output_type": "execute_result",
     "data": {
      "text/plain": [
       "[]"
      ]
     },
     "execution_count": 1,
     "metadata": {},
     "output_type": "execute_result"
    }
   ],
   "source": [
    "tiers = [\"bronze\", \"silver\", \"gold\"]\n",
    "adls_paths = {tier : f\"abfss://{tier}@agristorage2025.dfs.core.windows.net\" for tier in tiers}\n",
    "\n",
    "#Accessing path\n",
    "bronze_adls = adls_paths[\"bronze\"]\n",
    "silver_adls = adls_paths[\"silver\"]\n",
    "gold_adls = adls_paths[\"gold\"]\n",
    "\n",
    "dbutils.fs.ls(bronze_adls)\n",
    "dbutils.fs.ls(silver_adls)\n",
    "dbutils.fs.ls(gold_adls)\n"
   ]
  },
  {
   "cell_type": "code",
   "execution_count": 0,
   "metadata": {
    "application/vnd.databricks.v1+cell": {
     "cellMetadata": {
      "byteLimit": 2048000,
      "rowLimit": 10000
     },
     "inputWidgets": {},
     "nuid": "d2f3f2e3-939c-4994-9941-b29e5cc8219e",
     "showTitle": false,
     "tableResultSettingsMap": {},
     "title": ""
    }
   },
   "outputs": [],
   "source": [
    "import requests\n",
    "import json\n",
    "from datetime import date, timedelta"
   ]
  },
  {
   "cell_type": "code",
   "execution_count": 0,
   "metadata": {
    "application/vnd.databricks.v1+cell": {
     "cellMetadata": {
      "byteLimit": 2048000,
      "rowLimit": 10000
     },
     "inputWidgets": {},
     "nuid": "617ffafc-24b3-457c-b4a2-f7ae5c04d9d1",
     "showTitle": false,
     "tableResultSettingsMap": {},
     "title": ""
    }
   },
   "outputs": [],
   "source": [
    "# Pour tester l'API\n",
    "# today = date.today().strftime(\"%Y-%m-%d\")\n",
    "# # les coordonnées de localisation (ex. Paris)\n",
    "# latitude = 48.85\n",
    "# longitude = 2.35"
   ]
  },
  {
   "cell_type": "code",
   "execution_count": 0,
   "metadata": {
    "application/vnd.databricks.v1+cell": {
     "cellMetadata": {},
     "inputWidgets": {},
     "nuid": "0591433b-b221-4196-84a8-bdc57e7357a5",
     "showTitle": false,
     "tableResultSettingsMap": {},
     "title": ""
    }
   },
   "outputs": [],
   "source": [
    "dbutils.widgets.text(\"latitude\", \"\")\n",
    "latitude = dbutils.widgets.get(\"latitude\")\n",
    "dbutils.widgets.text(\"longitude\", \"\")\n",
    "longitude = dbutils.widgets.get(\"longitude\")\n",
    "dbutils.widgets.text(\"today\", \"\")\n",
    "today = dbutils.widgets.get(\"today\")\n",
    "dbutils.widgets.text(\"ville\", \"\")\n",
    "ville = dbutils.widgets.get(\"ville\")\n",
    "dbutils.widgets.text(\"pays\", \"\")\n",
    "pays = dbutils.widgets.get(\"pays\")"
   ]
  },
  {
   "cell_type": "code",
   "execution_count": 0,
   "metadata": {
    "application/vnd.databricks.v1+cell": {
     "cellMetadata": {},
     "inputWidgets": {},
     "nuid": "97e5e8d1-1d1a-4cd6-a986-61910f64c148",
     "showTitle": false,
     "tableResultSettingsMap": {},
     "title": ""
    }
   },
   "outputs": [],
   "source": [
    "print(\"Latitude =\", latitude)\n",
    "print(\"Longitude =\", longitude)\n",
    "print(\"Date =\", today)\n",
    "print(\"ville =\", ville)\n",
    "print(\"pays =\", pays)"
   ]
  },
  {
   "cell_type": "code",
   "execution_count": 0,
   "metadata": {
    "application/vnd.databricks.v1+cell": {
     "cellMetadata": {
      "byteLimit": 2048000,
      "rowLimit": 10000
     },
     "inputWidgets": {},
     "nuid": "6c46063b-da92-4a21-8d54-0200acd1acbf",
     "showTitle": false,
     "tableResultSettingsMap": {},
     "title": ""
    },
    "jupyter": {
     "outputs_hidden": true
    }
   },
   "outputs": [
    {
     "output_type": "stream",
     "name": "stdout",
     "output_type": "stream",
     "text": [
      "Wrote 16575 bytes.\nData successfully saved to abfss://bronze@agristorage2025.dfs.core.windows.net/openmeteo_2025-04-13.json\n"
     ]
    }
   ],
   "source": [
    "# Construire l'URL de l'API Open-Meteo\n",
    "url = f\"https://api.open-meteo.com/v1/forecast?latitude={latitude}&longitude={longitude}&hourly=temperature_2m,soil_temperature_0cm,precipitation&timezone=Europe%2FParis\"\n",
    "\n",
    "try:\n",
    "    # Envoyer la requête GET pour récupérer les données\n",
    "    response = requests.get(url)\n",
    "\n",
    "    # Vérifier que la requête a réussi\n",
    "    response.raise_for_status()  # Lève une erreur HTTP si la requête échoue\n",
    "\n",
    "    # Extraire les données JSON\n",
    "    data = response.json().get(\"hourly\", {})\n",
    "\n",
    "    # Vérifier si les données existent\n",
    "    if not data:\n",
    "        print(\"No data returned for the specified location.\")\n",
    "    else:\n",
    "        data_length = len(data.get(\"time\", []))\n",
    "        data[\"latitude\"] = [latitude] * data_length\n",
    "        data[\"longitude\"] = [longitude] * data_length\n",
    "        \n",
    "        # Spécifier le chemin ADLS (Azure Data Lake Storage)\n",
    "        # file_path = f\"{bronze_adls}/openmeteo_{today}.json\"\n",
    "        file_path = f\"{bronze_adls}/meteo/{pays}_{ville}_{today}.json\"\n",
    "\n",
    "        # 💾 Convertir en JSON formaté\n",
    "        json_data = json.dumps(data, indent=4)\n",
    "        dbutils.fs.put(file_path, json_data, overwrite=True)\n",
    "        print(f\"Data successfully saved to {file_path}\")\n",
    "\n",
    "except requests.exceptions.RequestException as e:\n",
    "    print(f\"Error fetching data from API: {e}\")"
   ]
  },
  {
   "cell_type": "code",
   "execution_count": 0,
   "metadata": {
    "application/vnd.databricks.v1+cell": {
     "cellMetadata": {},
     "inputWidgets": {},
     "nuid": "f51b90d9-174d-49e1-8f19-ecb4b870c3b8",
     "showTitle": false,
     "tableResultSettingsMap": {},
     "title": ""
    }
   },
   "outputs": [],
   "source": [
    "output_data = {\n",
    "    \"latitude\": latitude,\n",
    "    \"longitude\": longitude,\n",
    "    \"today\": today,\n",
    "    \"ville\": ville,\n",
    "    \"pays\": pays,\n",
    "    \"bronze_adls\": bronze_adls,\n",
    "    \"silver_adls\": silver_adls,\n",
    "    \"gold_adls\": gold_adls\n",
    "}\n",
    "\n",
    "output_json = json.dumps(output_data)\n",
    "print(f\"Serialized JSON: {output_json}\")\n",
    "dbutils.notebook.exit(output_json)"
   ]
  }
 ],
 "metadata": {
  "application/vnd.databricks.v1+notebook": {
   "computePreferences": null,
   "dashboards": [],
   "environmentMetadata": {
    "base_environment": "",
    "environment_version": "2"
   },
   "inputWidgetPreferences": null,
   "language": "python",
   "notebookMetadata": {
    "pythonIndentUnit": 4
   },
   "notebookName": "Bronze Notebook",
   "widgets": {}
  },
  "language_info": {
   "name": "python"
  }
 },
 "nbformat": 4,
 "nbformat_minor": 0
}